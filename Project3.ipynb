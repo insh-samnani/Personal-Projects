{
  "cells": [
    {
      "cell_type": "markdown",
      "metadata": {
        "id": "view-in-github",
        "colab_type": "text"
      },
      "source": [
        "<a href=\"https://colab.research.google.com/github/insh-samnani/Personal-Projects/blob/main/Project3.ipynb\" target=\"_parent\"><img src=\"https://colab.research.google.com/assets/colab-badge.svg\" alt=\"Open In Colab\"/></a>"
      ]
    },
    {
      "cell_type": "code",
      "execution_count": null,
      "metadata": {
        "colab": {
          "base_uri": "https://localhost:8080/",
          "height": 92,
          "resources": {
            "http://localhost:8080/nbextensions/google.colab/files.js": {
              "data": "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",
              "headers": [
                [
                  "content-type",
                  "application/javascript"
                ]
              ],
              "ok": true,
              "status": 200,
              "status_text": ""
            }
          }
        },
        "id": "GZt6bsmCf-Ca",
        "outputId": "3fc6ed34-6d94-4a54-c379-fbc5edef6288"
      },
      "outputs": [
        {
          "output_type": "display_data",
          "data": {
            "text/plain": [
              "<IPython.core.display.HTML object>"
            ],
            "text/html": [
              "\n",
              "     <input type=\"file\" id=\"files-758166db-85f3-4c57-acda-32d62592384c\" name=\"files[]\" multiple disabled\n",
              "        style=\"border:none\" />\n",
              "     <output id=\"result-758166db-85f3-4c57-acda-32d62592384c\">\n",
              "      Upload widget is only available when the cell has been executed in the\n",
              "      current browser session. Please rerun this cell to enable.\n",
              "      </output>\n",
              "      <script src=\"/nbextensions/google.colab/files.js\"></script> "
            ]
          },
          "metadata": {}
        },
        {
          "output_type": "stream",
          "name": "stdout",
          "text": [
            "Saving LiverPatientDataset.csv to LiverPatientDataset.csv\n",
            "User uploaded file \"LiverPatientDataset.csv\" with length 23857 bytes\n"
          ]
        }
      ],
      "source": [
        "#Upload CSV File from your PC/Laptop\n",
        "\n",
        "from google.colab import files\n",
        "uploaded = files.upload()\n",
        "for fn in uploaded.keys():\n",
        "  print('User uploaded file \"{name}\" with length {length} bytes'.format(\n",
        "      name=fn, length=len(uploaded[fn])))"
      ]
    },
    {
      "cell_type": "code",
      "execution_count": null,
      "metadata": {
        "id": "4JdOEQ8PgRwX"
      },
      "outputs": [],
      "source": [
        "#Importing Libraries\n",
        "\n",
        "import io \n",
        "import pandas as pd\n",
        "import seaborn as sns\n",
        "import matplotlib.pyplot as plt\n",
        "import numpy as np\n",
        "from sklearn.neighbors import KNeighborsClassifier\n",
        "from sklearn.model_selection import GridSearchCV\n",
        "from sklearn.model_selection import train_test_split,cross_val_score,KFold\n",
        "from sklearn.metrics import accuracy_score,mean_squared_error,roc_auc_score,classification_report,confusion_matrix,roc_curve,roc_auc_score\n",
        "from sklearn.cluster import KMeans\n",
        "from sklearn.preprocessing import StandardScaler,Normalizer,MaxAbsScaler\n",
        "from sklearn.pipeline import make_pipeline\n",
        "from sklearn.linear_model import Ridge,Lasso,LogisticRegression,LinearRegression\n",
        "from sklearn.tree import DecisionTreeClassifier,DecisionTreeRegressor\n",
        "from sklearn.ensemble import VotingClassifier,BaggingClassifier,RandomForestClassifier,BaggingRegressor,RandomForestRegressor,AdaBoostClassifier,AdaBoostRegressor,GradientBoostingClassifier,GradientBoostingRegressor\n",
        "from sklearn.ensemble import VotingClassifier\n",
        "from sklearn.linear_model import LinearRegression\n",
        "from sklearn.pipeline import Pipeline\n",
        "from sklearn.manifold import TSNE\n",
        "from sklearn.decomposition import PCA,TruncatedSVD"
      ]
    },
    {
      "cell_type": "code",
      "execution_count": null,
      "metadata": {
        "id": "qZzsp8cOgJTb"
      },
      "outputs": [],
      "source": [
        "#Creating DataFrame\n",
        "\n",
        "df = pd.read_csv(io.BytesIO(uploaded['LiverPatientDataset.csv']))"
      ]
    },
    {
      "cell_type": "code",
      "execution_count": null,
      "metadata": {
        "colab": {
          "base_uri": "https://localhost:8080/",
          "height": 206
        },
        "id": "TyPdXXOjgXYL",
        "outputId": "dbf993d8-0ffa-446d-dfa3-1be1ffe6289b"
      },
      "outputs": [
        {
          "output_type": "execute_result",
          "data": {
            "text/plain": [
              "   age  gender  tot_bilirubin  direct_bilirubin  tot_proteins  albumin  \\\n",
              "0   65  Female            0.7               0.1           187       16   \n",
              "1   62    Male           10.9               5.5           699       64   \n",
              "2   62    Male            7.3               4.1           490       60   \n",
              "3   58    Male            1.0               0.4           182       14   \n",
              "4   72    Male            3.9               2.0           195       27   \n",
              "\n",
              "   ag_ratio  sgpt  sgot  alkphos  is_patient  \n",
              "0        18   6.8   3.3     0.90           1  \n",
              "1       100   7.5   3.2     0.74           1  \n",
              "2        68   7.0   3.3     0.89           1  \n",
              "3        20   6.8   3.4     1.00           1  \n",
              "4        59   7.3   2.4     0.40           1  "
            ],
            "text/html": [
              "\n",
              "  <div id=\"df-3f3fb153-7e5e-490b-a808-173ab034ce1b\">\n",
              "    <div class=\"colab-df-container\">\n",
              "      <div>\n",
              "<style scoped>\n",
              "    .dataframe tbody tr th:only-of-type {\n",
              "        vertical-align: middle;\n",
              "    }\n",
              "\n",
              "    .dataframe tbody tr th {\n",
              "        vertical-align: top;\n",
              "    }\n",
              "\n",
              "    .dataframe thead th {\n",
              "        text-align: right;\n",
              "    }\n",
              "</style>\n",
              "<table border=\"1\" class=\"dataframe\">\n",
              "  <thead>\n",
              "    <tr style=\"text-align: right;\">\n",
              "      <th></th>\n",
              "      <th>age</th>\n",
              "      <th>gender</th>\n",
              "      <th>tot_bilirubin</th>\n",
              "      <th>direct_bilirubin</th>\n",
              "      <th>tot_proteins</th>\n",
              "      <th>albumin</th>\n",
              "      <th>ag_ratio</th>\n",
              "      <th>sgpt</th>\n",
              "      <th>sgot</th>\n",
              "      <th>alkphos</th>\n",
              "      <th>is_patient</th>\n",
              "    </tr>\n",
              "  </thead>\n",
              "  <tbody>\n",
              "    <tr>\n",
              "      <th>0</th>\n",
              "      <td>65</td>\n",
              "      <td>Female</td>\n",
              "      <td>0.7</td>\n",
              "      <td>0.1</td>\n",
              "      <td>187</td>\n",
              "      <td>16</td>\n",
              "      <td>18</td>\n",
              "      <td>6.8</td>\n",
              "      <td>3.3</td>\n",
              "      <td>0.90</td>\n",
              "      <td>1</td>\n",
              "    </tr>\n",
              "    <tr>\n",
              "      <th>1</th>\n",
              "      <td>62</td>\n",
              "      <td>Male</td>\n",
              "      <td>10.9</td>\n",
              "      <td>5.5</td>\n",
              "      <td>699</td>\n",
              "      <td>64</td>\n",
              "      <td>100</td>\n",
              "      <td>7.5</td>\n",
              "      <td>3.2</td>\n",
              "      <td>0.74</td>\n",
              "      <td>1</td>\n",
              "    </tr>\n",
              "    <tr>\n",
              "      <th>2</th>\n",
              "      <td>62</td>\n",
              "      <td>Male</td>\n",
              "      <td>7.3</td>\n",
              "      <td>4.1</td>\n",
              "      <td>490</td>\n",
              "      <td>60</td>\n",
              "      <td>68</td>\n",
              "      <td>7.0</td>\n",
              "      <td>3.3</td>\n",
              "      <td>0.89</td>\n",
              "      <td>1</td>\n",
              "    </tr>\n",
              "    <tr>\n",
              "      <th>3</th>\n",
              "      <td>58</td>\n",
              "      <td>Male</td>\n",
              "      <td>1.0</td>\n",
              "      <td>0.4</td>\n",
              "      <td>182</td>\n",
              "      <td>14</td>\n",
              "      <td>20</td>\n",
              "      <td>6.8</td>\n",
              "      <td>3.4</td>\n",
              "      <td>1.00</td>\n",
              "      <td>1</td>\n",
              "    </tr>\n",
              "    <tr>\n",
              "      <th>4</th>\n",
              "      <td>72</td>\n",
              "      <td>Male</td>\n",
              "      <td>3.9</td>\n",
              "      <td>2.0</td>\n",
              "      <td>195</td>\n",
              "      <td>27</td>\n",
              "      <td>59</td>\n",
              "      <td>7.3</td>\n",
              "      <td>2.4</td>\n",
              "      <td>0.40</td>\n",
              "      <td>1</td>\n",
              "    </tr>\n",
              "  </tbody>\n",
              "</table>\n",
              "</div>\n",
              "      <button class=\"colab-df-convert\" onclick=\"convertToInteractive('df-3f3fb153-7e5e-490b-a808-173ab034ce1b')\"\n",
              "              title=\"Convert this dataframe to an interactive table.\"\n",
              "              style=\"display:none;\">\n",
              "        \n",
              "  <svg xmlns=\"http://www.w3.org/2000/svg\" height=\"24px\"viewBox=\"0 0 24 24\"\n",
              "       width=\"24px\">\n",
              "    <path d=\"M0 0h24v24H0V0z\" fill=\"none\"/>\n",
              "    <path d=\"M18.56 5.44l.94 2.06.94-2.06 2.06-.94-2.06-.94-.94-2.06-.94 2.06-2.06.94zm-11 1L8.5 8.5l.94-2.06 2.06-.94-2.06-.94L8.5 2.5l-.94 2.06-2.06.94zm10 10l.94 2.06.94-2.06 2.06-.94-2.06-.94-.94-2.06-.94 2.06-2.06.94z\"/><path d=\"M17.41 7.96l-1.37-1.37c-.4-.4-.92-.59-1.43-.59-.52 0-1.04.2-1.43.59L10.3 9.45l-7.72 7.72c-.78.78-.78 2.05 0 2.83L4 21.41c.39.39.9.59 1.41.59.51 0 1.02-.2 1.41-.59l7.78-7.78 2.81-2.81c.8-.78.8-2.07 0-2.86zM5.41 20L4 18.59l7.72-7.72 1.47 1.35L5.41 20z\"/>\n",
              "  </svg>\n",
              "      </button>\n",
              "      \n",
              "  <style>\n",
              "    .colab-df-container {\n",
              "      display:flex;\n",
              "      flex-wrap:wrap;\n",
              "      gap: 12px;\n",
              "    }\n",
              "\n",
              "    .colab-df-convert {\n",
              "      background-color: #E8F0FE;\n",
              "      border: none;\n",
              "      border-radius: 50%;\n",
              "      cursor: pointer;\n",
              "      display: none;\n",
              "      fill: #1967D2;\n",
              "      height: 32px;\n",
              "      padding: 0 0 0 0;\n",
              "      width: 32px;\n",
              "    }\n",
              "\n",
              "    .colab-df-convert:hover {\n",
              "      background-color: #E2EBFA;\n",
              "      box-shadow: 0px 1px 2px rgba(60, 64, 67, 0.3), 0px 1px 3px 1px rgba(60, 64, 67, 0.15);\n",
              "      fill: #174EA6;\n",
              "    }\n",
              "\n",
              "    [theme=dark] .colab-df-convert {\n",
              "      background-color: #3B4455;\n",
              "      fill: #D2E3FC;\n",
              "    }\n",
              "\n",
              "    [theme=dark] .colab-df-convert:hover {\n",
              "      background-color: #434B5C;\n",
              "      box-shadow: 0px 1px 3px 1px rgba(0, 0, 0, 0.15);\n",
              "      filter: drop-shadow(0px 1px 2px rgba(0, 0, 0, 0.3));\n",
              "      fill: #FFFFFF;\n",
              "    }\n",
              "  </style>\n",
              "\n",
              "      <script>\n",
              "        const buttonEl =\n",
              "          document.querySelector('#df-3f3fb153-7e5e-490b-a808-173ab034ce1b button.colab-df-convert');\n",
              "        buttonEl.style.display =\n",
              "          google.colab.kernel.accessAllowed ? 'block' : 'none';\n",
              "\n",
              "        async function convertToInteractive(key) {\n",
              "          const element = document.querySelector('#df-3f3fb153-7e5e-490b-a808-173ab034ce1b');\n",
              "          const dataTable =\n",
              "            await google.colab.kernel.invokeFunction('convertToInteractive',\n",
              "                                                     [key], {});\n",
              "          if (!dataTable) return;\n",
              "\n",
              "          const docLinkHtml = 'Like what you see? Visit the ' +\n",
              "            '<a target=\"_blank\" href=https://colab.research.google.com/notebooks/data_table.ipynb>data table notebook</a>'\n",
              "            + ' to learn more about interactive tables.';\n",
              "          element.innerHTML = '';\n",
              "          dataTable['output_type'] = 'display_data';\n",
              "          await google.colab.output.renderOutput(dataTable, element);\n",
              "          const docLink = document.createElement('div');\n",
              "          docLink.innerHTML = docLinkHtml;\n",
              "          element.appendChild(docLink);\n",
              "        }\n",
              "      </script>\n",
              "    </div>\n",
              "  </div>\n",
              "  "
            ]
          },
          "metadata": {},
          "execution_count": 204
        }
      ],
      "source": [
        "#Viewing few records of DataFrame LiverPatientDataset\n",
        "\n",
        "df.head(5)"
      ]
    },
    {
      "cell_type": "code",
      "execution_count": null,
      "metadata": {
        "colab": {
          "base_uri": "https://localhost:8080/"
        },
        "id": "AFrIMeRlggxR",
        "outputId": "b24c452a-3f83-4c2b-c7e2-04f4258b1b13"
      },
      "outputs": [
        {
          "output_type": "execute_result",
          "data": {
            "text/plain": [
              "age                 0\n",
              "gender              0\n",
              "tot_bilirubin       0\n",
              "direct_bilirubin    0\n",
              "tot_proteins        0\n",
              "albumin             0\n",
              "ag_ratio            0\n",
              "sgpt                0\n",
              "sgot                0\n",
              "alkphos             4\n",
              "is_patient          0\n",
              "dtype: int64"
            ]
          },
          "metadata": {},
          "execution_count": 205
        }
      ],
      "source": [
        "#Checking if our data is having any null values\n",
        "\n",
        "df.isna().sum()"
      ]
    },
    {
      "cell_type": "code",
      "execution_count": null,
      "metadata": {
        "colab": {
          "base_uri": "https://localhost:8080/"
        },
        "id": "wkiiRjO2mhEd",
        "outputId": "74852cbd-1941-4507-8489-a63932d922bd"
      },
      "outputs": [
        {
          "output_type": "execute_result",
          "data": {
            "text/plain": [
              "age                 0\n",
              "gender              0\n",
              "tot_bilirubin       0\n",
              "direct_bilirubin    0\n",
              "tot_proteins        0\n",
              "albumin             0\n",
              "ag_ratio            0\n",
              "sgpt                0\n",
              "sgot                0\n",
              "alkphos             0\n",
              "is_patient          0\n",
              "dtype: int64"
            ]
          },
          "metadata": {},
          "execution_count": 27
        }
      ],
      "source": [
        "#As we found only one column having four null values, we can simply drop those rows\n",
        "\n",
        "df=df.dropna()\n",
        "df.isna().sum()"
      ]
    },
    {
      "cell_type": "code",
      "source": [
        "#Checking the number of unique values in each column\n",
        "\n",
        "df.nunique()"
      ],
      "metadata": {
        "colab": {
          "base_uri": "https://localhost:8080/"
        },
        "id": "_phnljZE_vOo",
        "outputId": "117f7cd3-b5a7-4a65-d544-0bbb08768ee5"
      },
      "execution_count": null,
      "outputs": [
        {
          "output_type": "execute_result",
          "data": {
            "text/plain": [
              "age                  72\n",
              "gender                2\n",
              "tot_bilirubin       113\n",
              "direct_bilirubin     80\n",
              "tot_proteins        262\n",
              "albumin             152\n",
              "ag_ratio            177\n",
              "sgpt                 58\n",
              "sgot                 40\n",
              "alkphos              69\n",
              "is_patient            2\n",
              "dtype: int64"
            ]
          },
          "metadata": {},
          "execution_count": 70
        }
      ]
    },
    {
      "cell_type": "code",
      "execution_count": null,
      "metadata": {
        "colab": {
          "base_uri": "https://localhost:8080/",
          "height": 363
        },
        "id": "P7XJD__Bnqtp",
        "outputId": "81fca68d-a6af-475f-db90-707e47a87772"
      },
      "outputs": [
        {
          "output_type": "execute_result",
          "data": {
            "text/plain": [
              "                       age  tot_bilirubin  direct_bilirubin  tot_proteins  \\\n",
              "age               1.000000       0.011000          0.006784      0.078878   \n",
              "tot_bilirubin     0.011000       1.000000          0.874481      0.205739   \n",
              "direct_bilirubin  0.006784       0.874481          1.000000      0.234008   \n",
              "tot_proteins      0.078878       0.205739          0.234008      1.000000   \n",
              "albumin          -0.087799       0.213375          0.233180      0.124777   \n",
              "ag_ratio         -0.020499       0.237323          0.257022      0.166580   \n",
              "sgpt             -0.186248      -0.007906          0.000033     -0.027062   \n",
              "sgot             -0.264211      -0.222087         -0.228409     -0.163419   \n",
              "alkphos          -0.216408      -0.206267         -0.200125     -0.234166   \n",
              "is_patient       -0.133164      -0.220218         -0.246273     -0.183363   \n",
              "\n",
              "                   albumin  ag_ratio      sgpt      sgot   alkphos  is_patient  \n",
              "age              -0.087799 -0.020499 -0.186248 -0.264211 -0.216408   -0.133164  \n",
              "tot_bilirubin     0.213375  0.237323 -0.007906 -0.222087 -0.206267   -0.220218  \n",
              "direct_bilirubin  0.233180  0.257022  0.000033 -0.228409 -0.200125   -0.246273  \n",
              "tot_proteins      0.124777  0.166580 -0.027062 -0.163419 -0.234166   -0.183363  \n",
              "albumin           1.000000  0.791862 -0.042432 -0.028658 -0.002375   -0.163117  \n",
              "ag_ratio          0.791862  1.000000 -0.025751 -0.084915 -0.070040   -0.151834  \n",
              "sgpt             -0.042432 -0.025751  1.000000  0.783112  0.234887    0.033614  \n",
              "sgot             -0.028658 -0.084915  0.783112  1.000000  0.689632    0.159770  \n",
              "alkphos          -0.002375 -0.070040  0.234887  0.689632  1.000000    0.163131  \n",
              "is_patient       -0.163117 -0.151834  0.033614  0.159770  0.163131    1.000000  "
            ],
            "text/html": [
              "\n",
              "  <div id=\"df-b27520fc-9cdf-4548-acfa-2250739c334a\">\n",
              "    <div class=\"colab-df-container\">\n",
              "      <div>\n",
              "<style scoped>\n",
              "    .dataframe tbody tr th:only-of-type {\n",
              "        vertical-align: middle;\n",
              "    }\n",
              "\n",
              "    .dataframe tbody tr th {\n",
              "        vertical-align: top;\n",
              "    }\n",
              "\n",
              "    .dataframe thead th {\n",
              "        text-align: right;\n",
              "    }\n",
              "</style>\n",
              "<table border=\"1\" class=\"dataframe\">\n",
              "  <thead>\n",
              "    <tr style=\"text-align: right;\">\n",
              "      <th></th>\n",
              "      <th>age</th>\n",
              "      <th>tot_bilirubin</th>\n",
              "      <th>direct_bilirubin</th>\n",
              "      <th>tot_proteins</th>\n",
              "      <th>albumin</th>\n",
              "      <th>ag_ratio</th>\n",
              "      <th>sgpt</th>\n",
              "      <th>sgot</th>\n",
              "      <th>alkphos</th>\n",
              "      <th>is_patient</th>\n",
              "    </tr>\n",
              "  </thead>\n",
              "  <tbody>\n",
              "    <tr>\n",
              "      <th>age</th>\n",
              "      <td>1.000000</td>\n",
              "      <td>0.011000</td>\n",
              "      <td>0.006784</td>\n",
              "      <td>0.078878</td>\n",
              "      <td>-0.087799</td>\n",
              "      <td>-0.020499</td>\n",
              "      <td>-0.186248</td>\n",
              "      <td>-0.264211</td>\n",
              "      <td>-0.216408</td>\n",
              "      <td>-0.133164</td>\n",
              "    </tr>\n",
              "    <tr>\n",
              "      <th>tot_bilirubin</th>\n",
              "      <td>0.011000</td>\n",
              "      <td>1.000000</td>\n",
              "      <td>0.874481</td>\n",
              "      <td>0.205739</td>\n",
              "      <td>0.213375</td>\n",
              "      <td>0.237323</td>\n",
              "      <td>-0.007906</td>\n",
              "      <td>-0.222087</td>\n",
              "      <td>-0.206267</td>\n",
              "      <td>-0.220218</td>\n",
              "    </tr>\n",
              "    <tr>\n",
              "      <th>direct_bilirubin</th>\n",
              "      <td>0.006784</td>\n",
              "      <td>0.874481</td>\n",
              "      <td>1.000000</td>\n",
              "      <td>0.234008</td>\n",
              "      <td>0.233180</td>\n",
              "      <td>0.257022</td>\n",
              "      <td>0.000033</td>\n",
              "      <td>-0.228409</td>\n",
              "      <td>-0.200125</td>\n",
              "      <td>-0.246273</td>\n",
              "    </tr>\n",
              "    <tr>\n",
              "      <th>tot_proteins</th>\n",
              "      <td>0.078878</td>\n",
              "      <td>0.205739</td>\n",
              "      <td>0.234008</td>\n",
              "      <td>1.000000</td>\n",
              "      <td>0.124777</td>\n",
              "      <td>0.166580</td>\n",
              "      <td>-0.027062</td>\n",
              "      <td>-0.163419</td>\n",
              "      <td>-0.234166</td>\n",
              "      <td>-0.183363</td>\n",
              "    </tr>\n",
              "    <tr>\n",
              "      <th>albumin</th>\n",
              "      <td>-0.087799</td>\n",
              "      <td>0.213375</td>\n",
              "      <td>0.233180</td>\n",
              "      <td>0.124777</td>\n",
              "      <td>1.000000</td>\n",
              "      <td>0.791862</td>\n",
              "      <td>-0.042432</td>\n",
              "      <td>-0.028658</td>\n",
              "      <td>-0.002375</td>\n",
              "      <td>-0.163117</td>\n",
              "    </tr>\n",
              "    <tr>\n",
              "      <th>ag_ratio</th>\n",
              "      <td>-0.020499</td>\n",
              "      <td>0.237323</td>\n",
              "      <td>0.257022</td>\n",
              "      <td>0.166580</td>\n",
              "      <td>0.791862</td>\n",
              "      <td>1.000000</td>\n",
              "      <td>-0.025751</td>\n",
              "      <td>-0.084915</td>\n",
              "      <td>-0.070040</td>\n",
              "      <td>-0.151834</td>\n",
              "    </tr>\n",
              "    <tr>\n",
              "      <th>sgpt</th>\n",
              "      <td>-0.186248</td>\n",
              "      <td>-0.007906</td>\n",
              "      <td>0.000033</td>\n",
              "      <td>-0.027062</td>\n",
              "      <td>-0.042432</td>\n",
              "      <td>-0.025751</td>\n",
              "      <td>1.000000</td>\n",
              "      <td>0.783112</td>\n",
              "      <td>0.234887</td>\n",
              "      <td>0.033614</td>\n",
              "    </tr>\n",
              "    <tr>\n",
              "      <th>sgot</th>\n",
              "      <td>-0.264211</td>\n",
              "      <td>-0.222087</td>\n",
              "      <td>-0.228409</td>\n",
              "      <td>-0.163419</td>\n",
              "      <td>-0.028658</td>\n",
              "      <td>-0.084915</td>\n",
              "      <td>0.783112</td>\n",
              "      <td>1.000000</td>\n",
              "      <td>0.689632</td>\n",
              "      <td>0.159770</td>\n",
              "    </tr>\n",
              "    <tr>\n",
              "      <th>alkphos</th>\n",
              "      <td>-0.216408</td>\n",
              "      <td>-0.206267</td>\n",
              "      <td>-0.200125</td>\n",
              "      <td>-0.234166</td>\n",
              "      <td>-0.002375</td>\n",
              "      <td>-0.070040</td>\n",
              "      <td>0.234887</td>\n",
              "      <td>0.689632</td>\n",
              "      <td>1.000000</td>\n",
              "      <td>0.163131</td>\n",
              "    </tr>\n",
              "    <tr>\n",
              "      <th>is_patient</th>\n",
              "      <td>-0.133164</td>\n",
              "      <td>-0.220218</td>\n",
              "      <td>-0.246273</td>\n",
              "      <td>-0.183363</td>\n",
              "      <td>-0.163117</td>\n",
              "      <td>-0.151834</td>\n",
              "      <td>0.033614</td>\n",
              "      <td>0.159770</td>\n",
              "      <td>0.163131</td>\n",
              "      <td>1.000000</td>\n",
              "    </tr>\n",
              "  </tbody>\n",
              "</table>\n",
              "</div>\n",
              "      <button class=\"colab-df-convert\" onclick=\"convertToInteractive('df-b27520fc-9cdf-4548-acfa-2250739c334a')\"\n",
              "              title=\"Convert this dataframe to an interactive table.\"\n",
              "              style=\"display:none;\">\n",
              "        \n",
              "  <svg xmlns=\"http://www.w3.org/2000/svg\" height=\"24px\"viewBox=\"0 0 24 24\"\n",
              "       width=\"24px\">\n",
              "    <path d=\"M0 0h24v24H0V0z\" fill=\"none\"/>\n",
              "    <path d=\"M18.56 5.44l.94 2.06.94-2.06 2.06-.94-2.06-.94-.94-2.06-.94 2.06-2.06.94zm-11 1L8.5 8.5l.94-2.06 2.06-.94-2.06-.94L8.5 2.5l-.94 2.06-2.06.94zm10 10l.94 2.06.94-2.06 2.06-.94-2.06-.94-.94-2.06-.94 2.06-2.06.94z\"/><path d=\"M17.41 7.96l-1.37-1.37c-.4-.4-.92-.59-1.43-.59-.52 0-1.04.2-1.43.59L10.3 9.45l-7.72 7.72c-.78.78-.78 2.05 0 2.83L4 21.41c.39.39.9.59 1.41.59.51 0 1.02-.2 1.41-.59l7.78-7.78 2.81-2.81c.8-.78.8-2.07 0-2.86zM5.41 20L4 18.59l7.72-7.72 1.47 1.35L5.41 20z\"/>\n",
              "  </svg>\n",
              "      </button>\n",
              "      \n",
              "  <style>\n",
              "    .colab-df-container {\n",
              "      display:flex;\n",
              "      flex-wrap:wrap;\n",
              "      gap: 12px;\n",
              "    }\n",
              "\n",
              "    .colab-df-convert {\n",
              "      background-color: #E8F0FE;\n",
              "      border: none;\n",
              "      border-radius: 50%;\n",
              "      cursor: pointer;\n",
              "      display: none;\n",
              "      fill: #1967D2;\n",
              "      height: 32px;\n",
              "      padding: 0 0 0 0;\n",
              "      width: 32px;\n",
              "    }\n",
              "\n",
              "    .colab-df-convert:hover {\n",
              "      background-color: #E2EBFA;\n",
              "      box-shadow: 0px 1px 2px rgba(60, 64, 67, 0.3), 0px 1px 3px 1px rgba(60, 64, 67, 0.15);\n",
              "      fill: #174EA6;\n",
              "    }\n",
              "\n",
              "    [theme=dark] .colab-df-convert {\n",
              "      background-color: #3B4455;\n",
              "      fill: #D2E3FC;\n",
              "    }\n",
              "\n",
              "    [theme=dark] .colab-df-convert:hover {\n",
              "      background-color: #434B5C;\n",
              "      box-shadow: 0px 1px 3px 1px rgba(0, 0, 0, 0.15);\n",
              "      filter: drop-shadow(0px 1px 2px rgba(0, 0, 0, 0.3));\n",
              "      fill: #FFFFFF;\n",
              "    }\n",
              "  </style>\n",
              "\n",
              "      <script>\n",
              "        const buttonEl =\n",
              "          document.querySelector('#df-b27520fc-9cdf-4548-acfa-2250739c334a button.colab-df-convert');\n",
              "        buttonEl.style.display =\n",
              "          google.colab.kernel.accessAllowed ? 'block' : 'none';\n",
              "\n",
              "        async function convertToInteractive(key) {\n",
              "          const element = document.querySelector('#df-b27520fc-9cdf-4548-acfa-2250739c334a');\n",
              "          const dataTable =\n",
              "            await google.colab.kernel.invokeFunction('convertToInteractive',\n",
              "                                                     [key], {});\n",
              "          if (!dataTable) return;\n",
              "\n",
              "          const docLinkHtml = 'Like what you see? Visit the ' +\n",
              "            '<a target=\"_blank\" href=https://colab.research.google.com/notebooks/data_table.ipynb>data table notebook</a>'\n",
              "            + ' to learn more about interactive tables.';\n",
              "          element.innerHTML = '';\n",
              "          dataTable['output_type'] = 'display_data';\n",
              "          await google.colab.output.renderOutput(dataTable, element);\n",
              "          const docLink = document.createElement('div');\n",
              "          docLink.innerHTML = docLinkHtml;\n",
              "          element.appendChild(docLink);\n",
              "        }\n",
              "      </script>\n",
              "    </div>\n",
              "  </div>\n",
              "  "
            ]
          },
          "metadata": {},
          "execution_count": 207
        }
      ],
      "source": [
        "#Checking for correlations between different variables\n",
        "\n",
        "df.corr()"
      ]
    },
    {
      "cell_type": "code",
      "execution_count": null,
      "metadata": {
        "id": "m0VhHxqpq9zy"
      },
      "outputs": [],
      "source": [
        "#Modifying our data to make a categorical column\n",
        "\n",
        "df[\"is_patient\"]=df[\"is_patient\"].replace([1,2],[1,0])"
      ]
    },
    {
      "cell_type": "markdown",
      "metadata": {
        "id": "vUnw_GiKye3Q"
      },
      "source": [
        "### **CLASSIFIERS**"
      ]
    },
    {
      "cell_type": "code",
      "execution_count": null,
      "metadata": {
        "colab": {
          "base_uri": "https://localhost:8080/"
        },
        "id": "0-F7EsJ_n-St",
        "outputId": "08537db7-1c27-43fd-f459-6486d89b5b56"
      },
      "outputs": [
        {
          "output_type": "stream",
          "name": "stdout",
          "text": [
            "The optimum number of n_neighbors should be: {'n_neighbors': 20}\n",
            "Accuracy Score/Unscaled: \n",
            "0.6551724137931034\n",
            "Accuracy Score/Scaled: \n",
            "0.7172413793103448\n"
          ]
        }
      ],
      "source": [
        "#Applying \"KNeighborsClassifier\" that is Supervised Machine Learning Algorithm to check the score so that if the score is good, we could make predictions from our model\n",
        "\n",
        "X=df.drop([\"is_patient\",\"gender\",\"sgpt\",\"ag_ratio\",\"age\",\"albumin\",\"tot_proteins\"],axis=1).values\n",
        "y=df[\"is_patient\"].values\n",
        "X_train,X_test,y_train,y_test=train_test_split(X,y,test_size=0.25,random_state=21,stratify=y)\n",
        "param_grid={'n_neighbors':np.arange(1,50)}\n",
        "knn=KNeighborsClassifier()\n",
        "knn_cv=GridSearchCV(knn,param_grid,cv=10)\n",
        "knn_cv.fit(X_train,y_train)\n",
        "print(\"The optimum number of n_neighbors should be: \" + str(knn_cv.best_params_))\n",
        "knn=KNeighborsClassifier(n_neighbors=20)\n",
        "knn.fit(X_train,y_train)\n",
        "y_pred=knn.predict(X_test)\n",
        "score=accuracy_score(y_test,y_pred)\n",
        "print(\"Accuracy Score/Unscaled: \")\n",
        "print(score)\n",
        "\n",
        "#As we can see that the score is 0.6551, the score is moderate but not much good to make appropriate predictions. Let us apply scaling and observe our accuracy score\n",
        "\n",
        "param_grid={'knn__n_neighbors':np.arange(1,50)}\n",
        "steps=[('scaler',StandardScaler()),('knn',KNeighborsClassifier(n_neighbors=20))]\n",
        "X_train,X_test,y_train,y_test=train_test_split(X,y,test_size=0.25,random_state=5)\n",
        "pipeline=Pipeline(steps)\n",
        "pipeline.fit(X_train,y_train)\n",
        "knn_cv=GridSearchCV(pipeline,param_grid)\n",
        "knn_cv.fit(X_train,y_train)\n",
        "score=knn_cv.score(X_test,y_test)\n",
        "print(\"Accuracy Score/Scaled: \")\n",
        "print(score)\n",
        "\n",
        "#We slightly improved our accuracy score"
      ]
    },
    {
      "cell_type": "code",
      "execution_count": null,
      "metadata": {
        "colab": {
          "base_uri": "https://localhost:8080/",
          "height": 320
        },
        "id": "RHpKV4_ZcbIx",
        "outputId": "78defa60-9359-4e0c-d3c5-9d098eab396d"
      },
      "outputs": [
        {
          "output_type": "stream",
          "name": "stdout",
          "text": [
            "Roc Curve: \n"
          ]
        },
        {
          "output_type": "display_data",
          "data": {
            "text/plain": [
              "<Figure size 432x288 with 1 Axes>"
            ],
            "image/png": "[encoded data removed]"
          },
          "metadata": {
            "needs_background": "light"
          }
        },
        {
          "output_type": "stream",
          "name": "stdout",
          "text": [
            "Accuracy Score: \n",
            "0.696551724137931\n"
          ]
        }
      ],
      "source": [
        "#Applying LogisticRegression as an alternative\n",
        "\n",
        "reg=LogisticRegression()\n",
        "reg.fit(X_train,y_train)\n",
        "y_pred=reg.predict(X_test)\n",
        "y_pred_proba=reg.predict_proba(X_test)[:,1]\n",
        "fpr,tpr,thresholds=roc_curve(y_test,y_pred_proba,pos_label=2)\n",
        "print(\"Roc Curve: \")\n",
        "plt.plot([0,1],[0,1],'k--')\n",
        "plt.plot(fpr,tpr,label='Roc_Curve')\n",
        "plt.show()\n",
        "print(\"Accuracy Score: \")\n",
        "print(reg.score(X_test,y_test))\n",
        "\n",
        "#The score is slightly high\n",
        "#The area under roc curve is less, hence we can expect an average prediction from our model through logistic regression algorithm"
      ]
    },
    {
      "cell_type": "code",
      "source": [
        "#If you want to make a prediction that depending on some features, whether a person will be a Male or Female, then you can first transform the column of gender as:\n",
        "\n",
        "df_gender=pd.get_dummies(df[\"gender\"],drop_first=True)\n",
        "df_gender=pd.concat([df,df_gender],axis=1)\n",
        "df_gender=df_gender.drop(\"gender\",axis=1)\n",
        "df_gender.head(5)\n",
        "\n",
        "#Now you can apply any classification model by keeping appropriate features for \"X\" and column of \"Male\" as \"y\""
      ],
      "metadata": {
        "colab": {
          "base_uri": "https://localhost:8080/",
          "height": 206
        },
        "id": "1Y4MSbBQCB4Z",
        "outputId": "c6ab369d-7961-43cf-d632-b7ad71d58711"
      },
      "execution_count": null,
      "outputs": [
        {
          "output_type": "execute_result",
          "data": {
            "text/plain": [
              "   age  tot_bilirubin  direct_bilirubin  tot_proteins  albumin  ag_ratio  \\\n",
              "0   65            0.7               0.1           187       16        18   \n",
              "1   62           10.9               5.5           699       64       100   \n",
              "2   62            7.3               4.1           490       60        68   \n",
              "3   58            1.0               0.4           182       14        20   \n",
              "4   72            3.9               2.0           195       27        59   \n",
              "\n",
              "   sgpt  sgot  alkphos  is_patient  Male  \n",
              "0   6.8   3.3     0.90           1     0  \n",
              "1   7.5   3.2     0.74           1     1  \n",
              "2   7.0   3.3     0.89           1     1  \n",
              "3   6.8   3.4     1.00           1     1  \n",
              "4   7.3   2.4     0.40           1     1  "
            ],
            "text/html": [
              "\n",
              "  <div id=\"df-31db6e85-e7c2-4906-958d-971263cc3147\">\n",
              "    <div class=\"colab-df-container\">\n",
              "      <div>\n",
              "<style scoped>\n",
              "    .dataframe tbody tr th:only-of-type {\n",
              "        vertical-align: middle;\n",
              "    }\n",
              "\n",
              "    .dataframe tbody tr th {\n",
              "        vertical-align: top;\n",
              "    }\n",
              "\n",
              "    .dataframe thead th {\n",
              "        text-align: right;\n",
              "    }\n",
              "</style>\n",
              "<table border=\"1\" class=\"dataframe\">\n",
              "  <thead>\n",
              "    <tr style=\"text-align: right;\">\n",
              "      <th></th>\n",
              "      <th>age</th>\n",
              "      <th>tot_bilirubin</th>\n",
              "      <th>direct_bilirubin</th>\n",
              "      <th>tot_proteins</th>\n",
              "      <th>albumin</th>\n",
              "      <th>ag_ratio</th>\n",
              "      <th>sgpt</th>\n",
              "      <th>sgot</th>\n",
              "      <th>alkphos</th>\n",
              "      <th>is_patient</th>\n",
              "      <th>Male</th>\n",
              "    </tr>\n",
              "  </thead>\n",
              "  <tbody>\n",
              "    <tr>\n",
              "      <th>0</th>\n",
              "      <td>65</td>\n",
              "      <td>0.7</td>\n",
              "      <td>0.1</td>\n",
              "      <td>187</td>\n",
              "      <td>16</td>\n",
              "      <td>18</td>\n",
              "      <td>6.8</td>\n",
              "      <td>3.3</td>\n",
              "      <td>0.90</td>\n",
              "      <td>1</td>\n",
              "      <td>0</td>\n",
              "    </tr>\n",
              "    <tr>\n",
              "      <th>1</th>\n",
              "      <td>62</td>\n",
              "      <td>10.9</td>\n",
              "      <td>5.5</td>\n",
              "      <td>699</td>\n",
              "      <td>64</td>\n",
              "      <td>100</td>\n",
              "      <td>7.5</td>\n",
              "      <td>3.2</td>\n",
              "      <td>0.74</td>\n",
              "      <td>1</td>\n",
              "      <td>1</td>\n",
              "    </tr>\n",
              "    <tr>\n",
              "      <th>2</th>\n",
              "      <td>62</td>\n",
              "      <td>7.3</td>\n",
              "      <td>4.1</td>\n",
              "      <td>490</td>\n",
              "      <td>60</td>\n",
              "      <td>68</td>\n",
              "      <td>7.0</td>\n",
              "      <td>3.3</td>\n",
              "      <td>0.89</td>\n",
              "      <td>1</td>\n",
              "      <td>1</td>\n",
              "    </tr>\n",
              "    <tr>\n",
              "      <th>3</th>\n",
              "      <td>58</td>\n",
              "      <td>1.0</td>\n",
              "      <td>0.4</td>\n",
              "      <td>182</td>\n",
              "      <td>14</td>\n",
              "      <td>20</td>\n",
              "      <td>6.8</td>\n",
              "      <td>3.4</td>\n",
              "      <td>1.00</td>\n",
              "      <td>1</td>\n",
              "      <td>1</td>\n",
              "    </tr>\n",
              "    <tr>\n",
              "      <th>4</th>\n",
              "      <td>72</td>\n",
              "      <td>3.9</td>\n",
              "      <td>2.0</td>\n",
              "      <td>195</td>\n",
              "      <td>27</td>\n",
              "      <td>59</td>\n",
              "      <td>7.3</td>\n",
              "      <td>2.4</td>\n",
              "      <td>0.40</td>\n",
              "      <td>1</td>\n",
              "      <td>1</td>\n",
              "    </tr>\n",
              "  </tbody>\n",
              "</table>\n",
              "</div>\n",
              "      <button class=\"colab-df-convert\" onclick=\"convertToInteractive('df-31db6e85-e7c2-4906-958d-971263cc3147')\"\n",
              "              title=\"Convert this dataframe to an interactive table.\"\n",
              "              style=\"display:none;\">\n",
              "        \n",
              "  <svg xmlns=\"http://www.w3.org/2000/svg\" height=\"24px\"viewBox=\"0 0 24 24\"\n",
              "       width=\"24px\">\n",
              "    <path d=\"M0 0h24v24H0V0z\" fill=\"none\"/>\n",
              "    <path d=\"M18.56 5.44l.94 2.06.94-2.06 2.06-.94-2.06-.94-.94-2.06-.94 2.06-2.06.94zm-11 1L8.5 8.5l.94-2.06 2.06-.94-2.06-.94L8.5 2.5l-.94 2.06-2.06.94zm10 10l.94 2.06.94-2.06 2.06-.94-2.06-.94-.94-2.06-.94 2.06-2.06.94z\"/><path d=\"M17.41 7.96l-1.37-1.37c-.4-.4-.92-.59-1.43-.59-.52 0-1.04.2-1.43.59L10.3 9.45l-7.72 7.72c-.78.78-.78 2.05 0 2.83L4 21.41c.39.39.9.59 1.41.59.51 0 1.02-.2 1.41-.59l7.78-7.78 2.81-2.81c.8-.78.8-2.07 0-2.86zM5.41 20L4 18.59l7.72-7.72 1.47 1.35L5.41 20z\"/>\n",
              "  </svg>\n",
              "      </button>\n",
              "      \n",
              "  <style>\n",
              "    .colab-df-container {\n",
              "      display:flex;\n",
              "      flex-wrap:wrap;\n",
              "      gap: 12px;\n",
              "    }\n",
              "\n",
              "    .colab-df-convert {\n",
              "      background-color: #E8F0FE;\n",
              "      border: none;\n",
              "      border-radius: 50%;\n",
              "      cursor: pointer;\n",
              "      display: none;\n",
              "      fill: #1967D2;\n",
              "      height: 32px;\n",
              "      padding: 0 0 0 0;\n",
              "      width: 32px;\n",
              "    }\n",
              "\n",
              "    .colab-df-convert:hover {\n",
              "      background-color: #E2EBFA;\n",
              "      box-shadow: 0px 1px 2px rgba(60, 64, 67, 0.3), 0px 1px 3px 1px rgba(60, 64, 67, 0.15);\n",
              "      fill: #174EA6;\n",
              "    }\n",
              "\n",
              "    [theme=dark] .colab-df-convert {\n",
              "      background-color: #3B4455;\n",
              "      fill: #D2E3FC;\n",
              "    }\n",
              "\n",
              "    [theme=dark] .colab-df-convert:hover {\n",
              "      background-color: #434B5C;\n",
              "      box-shadow: 0px 1px 3px 1px rgba(0, 0, 0, 0.15);\n",
              "      filter: drop-shadow(0px 1px 2px rgba(0, 0, 0, 0.3));\n",
              "      fill: #FFFFFF;\n",
              "    }\n",
              "  </style>\n",
              "\n",
              "      <script>\n",
              "        const buttonEl =\n",
              "          document.querySelector('#df-31db6e85-e7c2-4906-958d-971263cc3147 button.colab-df-convert');\n",
              "        buttonEl.style.display =\n",
              "          google.colab.kernel.accessAllowed ? 'block' : 'none';\n",
              "\n",
              "        async function convertToInteractive(key) {\n",
              "          const element = document.querySelector('#df-31db6e85-e7c2-4906-958d-971263cc3147');\n",
              "          const dataTable =\n",
              "            await google.colab.kernel.invokeFunction('convertToInteractive',\n",
              "                                                     [key], {});\n",
              "          if (!dataTable) return;\n",
              "\n",
              "          const docLinkHtml = 'Like what you see? Visit the ' +\n",
              "            '<a target=\"_blank\" href=https://colab.research.google.com/notebooks/data_table.ipynb>data table notebook</a>'\n",
              "            + ' to learn more about interactive tables.';\n",
              "          element.innerHTML = '';\n",
              "          dataTable['output_type'] = 'display_data';\n",
              "          await google.colab.output.renderOutput(dataTable, element);\n",
              "          const docLink = document.createElement('div');\n",
              "          docLink.innerHTML = docLinkHtml;\n",
              "          element.appendChild(docLink);\n",
              "        }\n",
              "      </script>\n",
              "    </div>\n",
              "  </div>\n",
              "  "
            ]
          },
          "metadata": {},
          "execution_count": 71
        }
      ]
    },
    {
      "cell_type": "markdown",
      "metadata": {
        "id": "KukIZ8edcu6k"
      },
      "source": [
        "### **UNSUPERVISED MACHINE LEARNING**"
      ]
    },
    {
      "cell_type": "code",
      "execution_count": null,
      "metadata": {
        "colab": {
          "base_uri": "https://localhost:8080/",
          "height": 425
        },
        "id": "OJFZIhTGy_ZC",
        "outputId": "1d0018a4-3d4c-4c64-f8ef-1b5297c842f9"
      },
      "outputs": [
        {
          "output_type": "display_data",
          "data": {
            "text/plain": [
              "<Figure size 432x288 with 1 Axes>"
            ],
            "image/png": "[encoded data removed]"
          },
          "metadata": {
            "needs_background": "light"
          }
        },
        {
          "output_type": "stream",
          "name": "stdout",
          "text": [
            "is_patient    1    2\n",
            "labels              \n",
            "0           306  160\n",
            "1            16    0\n",
            "2             1    0\n",
            "3            27    0\n",
            "4            59    5\n",
            "5             5    0\n"
          ]
        }
      ],
      "source": [
        "#let us apply another model that belongs to \"Unsupervised Machine Learning\" ; \"KMeans\"\n",
        "\n",
        "X=df.drop([\"is_patient\",\"gender\",\"sgpt\",\"ag_ratio\",\"age\",\"albumin\",\"tot_proteins\"],axis=1).values\n",
        "y=df[\"is_patient\"].values\n",
        "ks=range(1,9)\n",
        "inertias=[]\n",
        "for k in ks:\n",
        "  model=KMeans(n_clusters=k)\n",
        "  model.fit(X)\n",
        "  inertias.append(model.inertia_)\n",
        "plt.plot(ks,inertias)\n",
        "plt.xlabel(\"Clusters\")\n",
        "plt.ylabel(\"Inertia\")\n",
        "plt.show()\n",
        "model=KMeans(n_clusters=6)\n",
        "y_pred=model.fit_predict(X)\n",
        "dff=pd.DataFrame({'labels':y_pred,'is_patient':y})\n",
        "ct=pd.crosstab(dff['labels'],dff['is_patient'])\n",
        "print(ct)"
      ]
    },
    {
      "cell_type": "code",
      "execution_count": null,
      "metadata": {
        "colab": {
          "base_uri": "https://localhost:8080/"
        },
        "id": "OhkzdB8s2t5k",
        "outputId": "453bbf22-927e-4891-bc1f-460ed3472179"
      },
      "outputs": [
        {
          "output_type": "stream",
          "name": "stdout",
          "text": [
            "is_patient    1   2\n",
            "labels             \n",
            "0            52   8\n",
            "1           158  73\n",
            "2            19  12\n",
            "3           132  32\n",
            "4            50  40\n",
            "5             3   0\n"
          ]
        }
      ],
      "source": [
        "#As we observed that teh results are not desired one. We can apply preprocessing to make our results better\n",
        "\n",
        "normalizer=StandardScaler() #Here you can apply MaxAbsScaler(), StandardScaler()\n",
        "kmeans=KMeans(n_clusters=6)\n",
        "pipeline=make_pipeline(normalizer,kmeans)\n",
        "pipeline.fit(X)\n",
        "y_pred_pipeline=pipeline.predict(X)\n",
        "dff=pd.DataFrame({'labels':y_pred_pipeline,'is_patient':y})\n",
        "ct=pd.crosstab(dff['labels'],dff['is_patient'])\n",
        "print(ct)\n",
        "\n",
        "#But you will observe that none of the preprocessing technique took us to the desired results, hence our dataset is not matching appropriately with unsupervised machine learning algorithm"
      ]
    },
    {
      "cell_type": "code",
      "source": [
        "#Visualizing samples by \"Stochastic Neighbor Embeding\" ; TSNE\n",
        "\n",
        "model=TSNE(learning_rate=100) #Try learning_rate between 5 and 200\n",
        "transformed=model.fit_transform(X)\n",
        "xs=transformed[:,0]\n",
        "ys=transformed[:,1]\n",
        "plt.scatter(xs,ys,c=df['is_patient'])\n",
        "plt.legend()\n",
        "plt.show()"
      ],
      "metadata": {
        "colab": {
          "base_uri": "https://localhost:8080/",
          "height": 320
        },
        "id": "cDw1t93zSJsS",
        "outputId": "79018c53-9549-4bc8-8e18-c5bc94e3f67f"
      },
      "execution_count": null,
      "outputs": [
        {
          "output_type": "stream",
          "name": "stderr",
          "text": [
            "/usr/local/lib/python3.7/dist-packages/sklearn/manifold/_t_sne.py:783: FutureWarning: The default initialization in TSNE will change from 'random' to 'pca' in 1.2.\n",
            "  FutureWarning,\n",
            "No handles with labels found to put in legend.\n"
          ]
        },
        {
          "output_type": "display_data",
          "data": {
            "text/plain": [
              "<Figure size 432x288 with 1 Axes>"
            ],
            "image/png": "[encoded data removed]"
          },
          "metadata": {
            "needs_background": "light"
          }
        }
      ]
    },
    {
      "cell_type": "code",
      "source": [
        "#Let us see that in case of unsupervised learning, which feature is most impacting (have high variance) on target variable as according to the concept of PCA, high variance features are very informative\n",
        "\n",
        "pca=PCA()\n",
        "pca.fit(X)\n",
        "features=range(pca.n_components_)\n",
        "plt.bar(features,pca.explained_variance_)\n",
        "plt.xticks(features,['alkphos','tot_bilirubin','direct_bilirubin','sgot'])"
      ],
      "metadata": {
        "colab": {
          "base_uri": "https://localhost:8080/",
          "height": 412
        },
        "id": "t-85Nz7qUqHQ",
        "outputId": "b17c5d6a-f391-487a-949a-6b7e35b41b18"
      },
      "execution_count": null,
      "outputs": [
        {
          "output_type": "execute_result",
          "data": {
            "text/plain": [
              "([<matplotlib.axis.XTick at 0x7f6e50acb590>,\n",
              "  <matplotlib.axis.XTick at 0x7f6e50acb690>,\n",
              "  <matplotlib.axis.XTick at 0x7f6e50acb190>,\n",
              "  <matplotlib.axis.XTick at 0x7f6e50a1d490>],\n",
              " [Text(0, 0, 'alkphos'),\n",
              "  Text(0, 0, 'tot_bilirubin'),\n",
              "  Text(0, 0, 'direct_bilirubin'),\n",
              "  Text(0, 0, 'sgot')])"
            ]
          },
          "metadata": {},
          "execution_count": 115
        },
        {
          "output_type": "display_data",
          "data": {
            "text/plain": [
              "<Figure size 432x288 with 1 Axes>"
            ],
            "image/png": "[encoded data removed]"
          },
          "metadata": {
            "needs_background": "light"
          }
        }
      ]
    },
    {
      "cell_type": "markdown",
      "metadata": {
        "id": "QeXmn5jzWbqh"
      },
      "source": [
        "### **REGRESSORS**"
      ]
    },
    {
      "cell_type": "code",
      "source": [
        "#Applying cross validation performance to check that how much score we can get around in our regressor algorithms by using \"tot_bilirubin\" feature to make predictions on direct_bilirubin\n",
        "\n",
        "X=df[[\"tot_bilirubin\"]].values\n",
        "y=df[\"direct_bilirubin\"].values\n",
        "kf=KFold(n_splits=20,shuffle=True,random_state=88)\n",
        "reg=LinearRegression()\n",
        "cv_results=cross_val_score(reg,X,y,cv=kf)\n",
        "print(\"Mean Accuracy Score: \")\n",
        "print(cv_results.mean())"
      ],
      "metadata": {
        "colab": {
          "base_uri": "https://localhost:8080/"
        },
        "id": "s0QLzcjz0KJY",
        "outputId": "92b0ea35-5685-422a-ca87-39def5fec2ac"
      },
      "execution_count": null,
      "outputs": [
        {
          "output_type": "stream",
          "name": "stdout",
          "text": [
            "0.8132809704616945\n"
          ]
        }
      ]
    },
    {
      "cell_type": "code",
      "execution_count": null,
      "metadata": {
        "colab": {
          "base_uri": "https://localhost:8080/"
        },
        "id": "lMqXcYLxWiiD",
        "outputId": "3cdf134e-ee03-4e5a-ac1c-845896fb6e9c"
      },
      "outputs": [
        {
          "output_type": "stream",
          "name": "stdout",
          "text": [
            "0.8775370413636211\n"
          ]
        }
      ],
      "source": [
        "#Now let us apply few regressor algorithms where \"tot_bilirubin\" will be the feature and we will use it to make predictions on direct_bilirubin in a person having liver disease\n",
        "\n",
        "X_train,X_test,y_train,y_test=train_test_split(X,y,test_size=0.3,random_state=67)\n",
        "reg=LinearRegression()\n",
        "reg.fit(X_train,y_train)\n",
        "y_pred=reg.predict(X_test)\n",
        "print(\"Accuracy Score: \")\n",
        "print(reg.score(X_test,y_test))\n",
        "\n",
        "#Our score is quite good"
      ]
    },
    {
      "cell_type": "code",
      "execution_count": null,
      "metadata": {
        "colab": {
          "base_uri": "https://localhost:8080/"
        },
        "id": "tYL0x2Ooa53d",
        "outputId": "b5c233ac-e1df-46c1-e345-eefda628767d"
      },
      "outputs": [
        {
          "output_type": "stream",
          "name": "stdout",
          "text": [
            "[0.877534986626447, 0.8775164935535158, 0.8773315195337812, 0.8754775568735376, 0.856612357726787]\n"
          ]
        }
      ],
      "source": [
        "#Let us apply Ridge Regression\n",
        "\n",
        "alpha=[0.1,1.0,10.0,100.0,1000.0]\n",
        "scores=[]\n",
        "for alp in alpha:\n",
        "  ridge=Ridge(alpha=alp)\n",
        "  ridge.fit(X_train,y_train)\n",
        "  y_pred=ridge.predict(X_test)\n",
        "  scores.append(ridge.score(X_test,y_test))\n",
        "print(\"Accuracy Scores: \")\n",
        "print(scores) #Scores are like R-Square, its desirable value is 0.9 and above. Hence Ridge Regression is quite working"
      ]
    },
    {
      "cell_type": "code",
      "execution_count": null,
      "metadata": {
        "colab": {
          "base_uri": "https://localhost:8080/"
        },
        "id": "5EoJnB-vbdww",
        "outputId": "d3871d7c-073d-4eaf-d437-1ac40c6ad94c"
      },
      "outputs": [
        {
          "output_type": "stream",
          "name": "stdout",
          "text": [
            "[0.8752551534813926, 0.8529177641201305, 0.45130442680825167, -4.8690879804969e-05, -4.8690879804969e-05]\n"
          ]
        }
      ],
      "source": [
        "#Let us apply Lasso Regression\n",
        "\n",
        "alpha=[0.1,1.0,10.0,100.0,1000.0]\n",
        "scores=[]\n",
        "for alp in alpha:\n",
        "  lasso=Lasso(alpha=alp)\n",
        "  lasso.fit(X_train,y_train)\n",
        "  y_pred=lasso.predict(X_test)\n",
        "  scores.append(lasso.score(X_test,y_test))\n",
        "print(\"Accuracy Scores: \")\n",
        "print(scores) #Scores are like R-Square, its desirable value is 0.9 and above. Hence Lasso Regression is quite working"
      ]
    },
    {
      "cell_type": "markdown",
      "metadata": {
        "id": "kZ-Lstnc4afV"
      },
      "source": [
        "### **DECISION TREE CLASSIFIERS**"
      ]
    },
    {
      "cell_type": "code",
      "execution_count": null,
      "metadata": {
        "colab": {
          "base_uri": "https://localhost:8080/",
          "height": 297
        },
        "id": "Z3WYa_JlFdzC",
        "outputId": "26fd71f3-c27a-4720-d48b-bc19464c7fb3"
      },
      "outputs": [
        {
          "output_type": "execute_result",
          "data": {
            "text/plain": [
              "Text(0, 0.5, 'Features')"
            ]
          },
          "metadata": {},
          "execution_count": 64
        },
        {
          "output_type": "display_data",
          "data": {
            "text/plain": [
              "<Figure size 432x288 with 1 Axes>"
            ],
            "image/png": "[encoded data removed]"
          },
          "metadata": {
            "needs_background": "light"
          }
        }
      ],
      "source": [
        "#Finding out the best features that have significant impact on target variables to make our predictions more accurate for decision tree classifier algorithms\n",
        "\n",
        "X1=df.drop([\"is_patient\",\"gender\"],axis=1).values\n",
        "y1=df[\"is_patient\"].values\n",
        "X1_train,X1_test,y1_train,y1_test=train_test_split(X1,y1,test_size=0.25,random_state=21)\n",
        "rf=RandomForestClassifier(n_estimators=300,min_samples_leaf=0.12,n_jobs=-1,random_state=21)\n",
        "rf.fit(X1_train,y1_train)\n",
        "y_pred=rf.predict(X1_test)\n",
        "importance_rf=pd.Series(rf.feature_importances_,index=['age','tot_bilirubin','direct_bilirubin','alkphos','sgpt','sgot','tot_protiens','albumin','ag_ratio'])\n",
        "sorted_importance_rf=importance_rf.sort_values()\n",
        "sorted_importance_rf.plot(kind='barh',color='purple')\n",
        "plt.xlabel(\"Importance\")\n",
        "plt.ylabel(\"Features\")\n",
        "\n",
        "#Now the bar graph shows that we should use \"alkphos\", \"tot_bilirubin\", \"direct_bilirubin\", and \"sgot\" feature to predict whether a person is patient of liver disease or not"
      ]
    },
    {
      "cell_type": "code",
      "source": [
        "#Applying Adaptive Boosting Classifier to check that if the score is quite desirable to make accurate predictions\n",
        "\n",
        "X=df.drop([\"is_patient\",\"gender\",\"sgpt\",\"ag_ratio\",\"age\",\"albumin\",\"tot_proteins\"],axis=1).values\n",
        "y=df[\"is_patient\"].values\n",
        "X_train,X_test,y_train,y_test=train_test_split(X,y,test_size=0.3,random_state=30)\n",
        "dtc=DecisionTreeClassifier(criterion='gini',random_state=30) #We have applied criterion=\"gini\" to improve scaling, you can also apply \"entropy\" but we get better results by \"gini\"\n",
        "adb_clf=AdaBoostClassifier(base_estimator=dtc,n_estimators=300,random_state=30)\n",
        "adb_clf.fit(X_train,y_train)\n",
        "y_pred_proba=adb_clf.predict_proba(X_test)[:,1]\n",
        "print(\"Accuracy Score/Unscaled: \")\n",
        "print(roc_auc_score(y_test,y_pred_proba))\n",
        "print(\"\\nAccuracy Score/Scaled: \")\n",
        "steps=[('scaler',StandardScaler()),('dtc',DecisionTreeClassifier(criterion='gini',max_depth=4,random_state=74))]\n",
        "pipeline=Pipeline(steps)\n",
        "X_train,X_test,y_train,y_test=train_test_split(X,y,test_size=0.3,random_state=74)\n",
        "pipeline.fit(X_train,y_train)\n",
        "y_pred=pipeline.predict(X_test)\n",
        "print(pipeline.score(X_test,y_test)) \n",
        "\n",
        "#But results decreased our acuracy. But we can see that through scaling, we achieved quite better results. You can apply scaling in any classifier algorithm to improve your accuracy score"
      ],
      "metadata": {
        "colab": {
          "base_uri": "https://localhost:8080/"
        },
        "id": "cqL-zCOp7epQ",
        "outputId": "0414cab5-7af1-4a9f-91ef-645a88882cb7"
      },
      "execution_count": null,
      "outputs": [
        {
          "output_type": "stream",
          "name": "stdout",
          "text": [
            "Accuracy Score/Unscaled: \n",
            "0.6468994101705723\n",
            "\n",
            "Accuracy Score/Scaled: \n",
            "0.6896551724137931\n"
          ]
        }
      ]
    },
    {
      "cell_type": "code",
      "source": [
        "#Applying Gradient Boosting Classifier as an alternative\n",
        "\n",
        "X_train,X_test,y_train,y_test=train_test_split(X,y,test_size=0.3,random_state=89)\n",
        "gbc=GradientBoostingClassifier(n_estimators=300,max_depth=4,random_state=89)\n",
        "gbc.fit(X_train,y_train)\n",
        "y_pred=gbc.predict(X_test)\n",
        "print(\"Accuracy Score: \")\n",
        "print(accuracy_score(y_test,y_pred))"
      ],
      "metadata": {
        "colab": {
          "base_uri": "https://localhost:8080/"
        },
        "id": "U0MhMNk1uPPj",
        "outputId": "7f2ecb43-f23b-43ac-f50d-98db4bb04fa0"
      },
      "execution_count": null,
      "outputs": [
        {
          "output_type": "stream",
          "name": "stdout",
          "text": [
            "0.6781609195402298\n"
          ]
        }
      ]
    },
    {
      "cell_type": "code",
      "execution_count": null,
      "metadata": {
        "colab": {
          "base_uri": "https://localhost:8080/"
        },
        "id": "tN27KuafOn45",
        "outputId": "e4ae6387-f68b-4a9e-c0ac-4831694eeb53"
      },
      "outputs": [
        {
          "output_type": "stream",
          "name": "stdout",
          "text": [
            "Accuracy Score: \n",
            "0.7126436781609196\n"
          ]
        }
      ],
      "source": [
        "#Applying VotingClassifier to make our predictions more accurate by choosing the best algorithm out of 3 that are mentioned in classifiers as an alternative\n",
        "\n",
        "X_train,X_test,y_train,y_test=train_test_split(X,y,test_size=0.3,random_state=90)\n",
        "lr=LogisticRegression(random_state=90)\n",
        "knn=KNeighborsClassifier(n_neighbors=30)\n",
        "dtc=DecisionTreeClassifier(max_depth=4,random_state=90)\n",
        "classifiers=[('Logistic Regression',lr),('K Nearest Neighbors',knn),('Decision Tree Classifier',dtc)]\n",
        "vc=VotingClassifier(estimators=classifiers)\n",
        "vc.fit(X_train,y_train)\n",
        "y_pred=vc.predict(X_test)\n",
        "print(\"Accuracy Score: \")\n",
        "print(accuracy_score(y_test,y_pred))"
      ]
    },
    {
      "cell_type": "code",
      "execution_count": null,
      "metadata": {
        "colab": {
          "base_uri": "https://localhost:8080/",
          "height": 648
        },
        "id": "qD12q2_v4e-g",
        "outputId": "2c96d4de-90e5-409b-d4c0-b6ffdaf01173"
      },
      "outputs": [
        {
          "output_type": "stream",
          "name": "stdout",
          "text": [
            "Accuracy Score: \n",
            "0.735632183908046\n",
            "\n",
            "Confusion Matrix: \n",
            "[[123   8]\n",
            " [ 38   5]]\n",
            "\n",
            "Classification Report: \n",
            "              precision    recall  f1-score   support\n",
            "\n",
            "           1       0.76      0.94      0.84       131\n",
            "           2       0.38      0.12      0.18        43\n",
            "\n",
            "    accuracy                           0.74       174\n",
            "   macro avg       0.57      0.53      0.51       174\n",
            "weighted avg       0.67      0.74      0.68       174\n",
            "\n",
            "Roc Score: \n",
            "0.6626131723770636\n",
            "\n",
            "Roc Curve: \n"
          ]
        },
        {
          "output_type": "display_data",
          "data": {
            "text/plain": [
              "<Figure size 432x288 with 1 Axes>"
            ],
            "image/png": "[encoded data removed]"
          },
          "metadata": {
            "needs_background": "light"
          }
        }
      ],
      "source": [
        "#Applying BaggingClassifier to make our predictions more accurate if we can\n",
        "\n",
        "X_train,X_test,y_train,y_test=train_test_split(X,y,test_size=0.3,random_state=21)\n",
        "dt=DecisionTreeClassifier(max_depth=4,random_state=21)\n",
        "bc=BaggingClassifier(base_estimator=dt,n_estimators=300,n_jobs=-1,random_state=21)\n",
        "bc.fit(X_train,y_train)\n",
        "y_pred=bc.predict(X_test)\n",
        "print(\"Accuracy Score: \")\n",
        "print(accuracy_score(y_test,y_pred))\n",
        "print(\"\\nConfusion Matrix: \") \n",
        "print(confusion_matrix(y_test,y_pred))\n",
        "print(\"\\nClassification Report: \") #You can check that as our model is average, we can achieve a good rate of recall and f1-score, but precision alone is having quite low rate, hence we have large number of false positive rates as compare to false negative rates\n",
        "print(classification_report(y_test,y_pred))\n",
        "print(\"Roc Score: \")\n",
        "y_pred_proba=bc.predict_proba(X_test)[:,1]\n",
        "print(roc_auc_score(y_test,y_pred_proba))\n",
        "print(\"\\nRoc Curve: \")\n",
        "fpr,tpr,thresholds=roc_curve(y_test,y_pred_proba,pos_label=2)\n",
        "plt.plot([0,1],[0,1],'k--')\n",
        "plt.plot(fpr,tpr,label='Roc_Curve')\n",
        "plt.show()\n",
        "\n",
        "#Yes, we have improved our scores\n",
        "#But the model is predicting large number of people as patients although if they are not, but small number of people as not-patients although if they are. You can cross check the results from confusion matrix"
      ]
    },
    {
      "cell_type": "markdown",
      "source": [
        "### **CONCLUSIONS:** Hence you can either apply \"VOTING CLASSIFIER\" or \"BAGGING CLASSIFIER\"\n",
        "To predict by using \"alkphos\", \"tot_bilirubin\", \"direct_bilirubin\", and \"sgot\" features that whether a person is patient of liver disease or not"
      ],
      "metadata": {
        "id": "YD98XXhh-JKv"
      }
    },
    {
      "cell_type": "markdown",
      "metadata": {
        "id": "70Fu6nmedoGX"
      },
      "source": [
        "### **DECISION TREE REGRESSORS**"
      ]
    },
    {
      "cell_type": "code",
      "source": [
        "#Applying HyperParameterTuning to check for best pair of hyperparameters for DecisionTreeRegressor \n",
        "\n",
        "X=df[[\"tot_bilirubin\"]].values\n",
        "y=df[\"direct_bilirubin\"].values\n",
        "X_train,X_test,y_train,y_test=train_test_split(X,y,test_size=0.25,random_state=67)\n",
        "params_dt={'max_depth':[1,2,3,4,5,6,7,8,9,10],'min_samples_leaf':[0.1,0.2,0.3,0.4,0.5]}\n",
        "dt=DecisionTreeRegressor(random_state=67)\n",
        "grid_dt=GridSearchCV(dt,params_dt,cv=10,n_jobs=-1)\n",
        "grid_dt.fit(X_train,y_train)\n",
        "print(grid_dt.best_params_)\n",
        "print(\"Accuracy Score: \")\n",
        "print(grid_dt.best_score_)"
      ],
      "metadata": {
        "colab": {
          "base_uri": "https://localhost:8080/"
        },
        "id": "nX852DtG1Y03",
        "outputId": "6a9a4774-c2c1-4c5d-bb62-20fb5a8b3a9f"
      },
      "execution_count": null,
      "outputs": [
        {
          "output_type": "stream",
          "name": "stdout",
          "text": [
            "{'max_depth': 6, 'min_samples_leaf': 0.1}\n",
            "0.7368323084252759\n"
          ]
        }
      ]
    },
    {
      "cell_type": "code",
      "source": [
        "#Finding out the best features that have significant impact on target variables to make our predictions more accurate (But now for applying regressor problems)\n",
        "\n",
        "X1=df.drop([\"is_patient\",\"gender\",\"direct_bilirubin\"],axis=1).values\n",
        "y1=df[\"direct_bilirubin\"].values\n",
        "X1_train,X1_test,y1_train,y1_test=train_test_split(X1,y1,test_size=0.25,random_state=21)\n",
        "rf=RandomForestRegressor(max_depth=4,min_samples_leaf=0.1,random_state=21)\n",
        "rf.fit(X1_train,y1_train)\n",
        "y_pred=rf.predict(X1_test)\n",
        "importance_rf=pd.Series(rf.feature_importances_,index=['age','tot_bilirubin','alkphos','sgpt','sgot','tot_protiens','albumin','ag_ratio'])\n",
        "sorted_importance_rf=importance_rf.sort_values()\n",
        "sorted_importance_rf.plot(kind='barh',color='purple')\n",
        "plt.xlabel(\"Importance\")\n",
        "plt.ylabel(\"Features\")\n",
        "\n",
        "#As you can see that \"tot_bilirubin\" have a significant impact on our target variable \"direct_bilirubin\""
      ],
      "metadata": {
        "colab": {
          "base_uri": "https://localhost:8080/",
          "height": 297
        },
        "id": "Lmic1K7BrZiH",
        "outputId": "3990dc10-2c00-4df4-9809-c6c3d9d02c65"
      },
      "execution_count": null,
      "outputs": [
        {
          "output_type": "execute_result",
          "data": {
            "text/plain": [
              "Text(0, 0.5, 'Features')"
            ]
          },
          "metadata": {},
          "execution_count": 31
        },
        {
          "output_type": "display_data",
          "data": {
            "text/plain": [
              "<Figure size 432x288 with 1 Axes>"
            ],
            "image/png": "[encoded data removed]"
          },
          "metadata": {
            "needs_background": "light"
          }
        }
      ]
    },
    {
      "cell_type": "code",
      "execution_count": null,
      "metadata": {
        "colab": {
          "base_uri": "https://localhost:8080/"
        },
        "id": "VariPcVRdyUa",
        "outputId": "ce38284f-0ad5-47d1-ff80-78d964887e5f"
      },
      "outputs": [
        {
          "output_type": "stream",
          "name": "stdout",
          "text": [
            "Accuracy Score: \n",
            "0.8014865785362882\n"
          ]
        }
      ],
      "source": [
        "#Decsion tree regressor model is applied on the significant features of liver damage such as Alkphos,Total Bilirubin adn Sgot\n",
        "\n",
        "X=df[[\"tot_bilirubin\"]].values\n",
        "y=df[\"direct_bilirubin\"].values\n",
        "X_train,X_test,y_train,y_test=train_test_split(X,y,random_state=1000,test_size=0.25)\n",
        "dt=DecisionTreeRegressor(max_depth=6,min_samples_leaf=0.1,random_state=1000)\n",
        "dt.fit(X_train,y_train)\n",
        "y_pred=dt.predict(X_test)\n",
        "print(\"Accuracy Score: \")\n",
        "print(dt.score(X_test,y_test))\n",
        "\n",
        "#The predicted score is slighlty higher so for better predictions we go to bagging regressors"
      ]
    },
    {
      "cell_type": "code",
      "source": [
        "#The regressor tree is applied but its score is quite low, its tested on the same features as of Decison tree was tested and trained\n",
        "\n",
        "X_train,X_test,y_train,y_test=train_test_split(X,y,random_state=2000,test_size=0.25)\n",
        "rf=RandomForestRegressor(n_estimators=300,min_samples_leaf=0.1,n_jobs=-1,random_state=2000)\n",
        "rf.fit(X_train,y_train)\n",
        "y_pred=rf.predict(X_test)\n",
        "print(\"Accuracy Score: \")\n",
        "print(rf.score(X_test,y_test))"
      ],
      "metadata": {
        "colab": {
          "base_uri": "https://localhost:8080/"
        },
        "id": "y28ZYiclnqIL",
        "outputId": "3d8802ae-b582-400a-c7ec-05bd59575f29"
      },
      "execution_count": null,
      "outputs": [
        {
          "output_type": "stream",
          "name": "stdout",
          "text": [
            "0.693711074966348\n"
          ]
        }
      ]
    },
    {
      "cell_type": "code",
      "execution_count": null,
      "metadata": {
        "colab": {
          "base_uri": "https://localhost:8080/"
        },
        "id": "kcrzCh7ae9Yl",
        "outputId": "165e7ba8-11d6-47cf-ac4f-6b32013926a7"
      },
      "outputs": [
        {
          "output_type": "stream",
          "name": "stdout",
          "text": [
            "Accuracy Score: \n",
            "0.9742549204774279\n"
          ]
        }
      ],
      "source": [
        "#Applying BaggingRegressor to make our predictions more accurately on the sample testing and training dataset and reults are quite suprisingly high\n",
        "\n",
        "X_train,X_test,y_train,y_test=train_test_split(X,y,random_state=11,test_size=0.25)\n",
        "dt=DecisionTreeRegressor(max_depth=4,random_state=11)\n",
        "bc=BaggingRegressor(base_estimator=dt,n_estimators=300,n_jobs=-1,random_state=11)\n",
        "bc.fit(X_train,y_train)\n",
        "y_pred=bc.predict(X_test)\n",
        "print(\"Accuracy Score: \")\n",
        "print(bc.score(X_test,y_test))"
      ]
    },
    {
      "cell_type": "code",
      "source": [
        "#Another option is Adaptive Boosting Classifier\n",
        "\n",
        "X_train,X_test,y_train,y_test=train_test_split(X,y,random_state=90,test_size=0.25)\n",
        "dt=DecisionTreeRegressor(max_depth=4,random_state=90)\n",
        "adb_clf=AdaBoostRegressor(base_estimator=dt,n_estimators=300,random_state=90)\n",
        "adb_clf.fit(X_train,y_train)\n",
        "y_pred=adb_clf.predict(X_test)\n",
        "print(\"Accuracy Score: \")\n",
        "print(adb_clf.score(X_test,y_test))\n",
        "\n",
        "#But again results slightly decreased the model's acuracy"
      ],
      "metadata": {
        "id": "eZSn7Wy0rXc-",
        "colab": {
          "base_uri": "https://localhost:8080/"
        },
        "outputId": "070248df-10d1-41b2-9ae6-dc5d1456dd01"
      },
      "execution_count": null,
      "outputs": [
        {
          "output_type": "stream",
          "name": "stdout",
          "text": [
            "0.8842043465118596\n"
          ]
        }
      ]
    },
    {
      "cell_type": "code",
      "source": [
        "#Another option is Gradient Boosting Regressor\n",
        "\n",
        "X_train,X_test,y_train,y_test=train_test_split(X,y,random_state=78,test_size=0.25)\n",
        "gbc=GradientBoostingRegressor(n_estimators=300,max_depth=4,random_state=78)\n",
        "gbc.fit(X_train,y_train)\n",
        "y_pred=gbc.predict(X_test)\n",
        "print(\"Accuracy Score: \")\n",
        "print(gbc.score(X_test,y_test))\n",
        "\n",
        "#Its accuracy scorr is quite matching with Bagging Regressor"
      ],
      "metadata": {
        "colab": {
          "base_uri": "https://localhost:8080/"
        },
        "id": "KpjYHxkjy0Qj",
        "outputId": "d49d4c80-7625-4f16-efa6-ef5cdaf8b91e"
      },
      "execution_count": null,
      "outputs": [
        {
          "output_type": "stream",
          "name": "stdout",
          "text": [
            "0.9748903333805714\n"
          ]
        }
      ]
    },
    {
      "cell_type": "markdown",
      "source": [
        "### **CONCLUSIONS:** Hence you can either apply \"GRADIENT BOOSTING REGRESSOR\" or \"BAGGING REGRESSOR\"\n",
        "To predict by using \"tot_bilirubin\" feature that how much amount of \"direct_bilirubin\" will be in a person's body"
      ],
      "metadata": {
        "id": "HUeH-XjD-nV4"
      }
    }
  ],
  "metadata": {
    "colab": {
      "collapsed_sections": [],
      "name": "Project3.ipynb",
      "provenance": [],
      "authorship_tag": "ABX9TyNzgu1FSP3F5CwCPhRD8t+/",
      "include_colab_link": true
    },
    "kernelspec": {
      "display_name": "Python 3",
      "name": "python3"
    },
    "language_info": {
      "name": "python"
    }
  },
  "nbformat": 4,
  "nbformat_minor": 0
}